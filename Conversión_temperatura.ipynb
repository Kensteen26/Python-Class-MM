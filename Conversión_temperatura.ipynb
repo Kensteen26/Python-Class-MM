{
  "nbformat": 4,
  "nbformat_minor": 0,
  "metadata": {
    "colab": {
      "provenance": [],
      "authorship_tag": "ABX9TyPtiZq8lH8vDnUqBUTAOMSj",
      "include_colab_link": true
    },
    "kernelspec": {
      "name": "python3",
      "display_name": "Python 3"
    },
    "language_info": {
      "name": "python"
    }
  },
  "cells": [
    {
      "cell_type": "markdown",
      "metadata": {
        "id": "view-in-github",
        "colab_type": "text"
      },
      "source": [
        "<a href=\"https://colab.research.google.com/github/Kensteen26/Python-Class-MM/blob/main/Conversi%C3%B3n_temperatura.ipynb\" target=\"_parent\"><img src=\"https://colab.research.google.com/assets/colab-badge.svg\" alt=\"Open In Colab\"/></a>"
      ]
    },
    {
      "cell_type": "code",
      "execution_count": 1,
      "metadata": {
        "colab": {
          "base_uri": "https://localhost:8080/"
        },
        "id": "iAMBnVNDehdi",
        "outputId": "0e16b0b9-5365-46b2-eced-d077f1923c8e"
      },
      "outputs": [
        {
          "output_type": "stream",
          "name": "stdout",
          "text": [
            "100.5 grados Fahrenheit es 38.06 grados centigrados \n"
          ]
        }
      ],
      "source": [
        "# Solución\n",
        "cent=round(5/9*(100.5-32),2)\n",
        "print(f\"100.5 grados Fahrenheit es {cent} grados centigrados \")"
      ]
    }
  ]
}